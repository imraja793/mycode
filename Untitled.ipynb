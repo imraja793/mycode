{
 "cells": [
  {
   "cell_type": "code",
   "execution_count": 6,
   "id": "sensitive-reaction",
   "metadata": {},
   "outputs": [
    {
     "name": "stdout",
     "output_type": "stream",
     "text": [
      "[<class '__main__.B'>, <class '__main__.A'>, <class 'object'>]\n"
     ]
    }
   ],
   "source": [
    "# mro\n",
    "\n",
    "class A:\n",
    "    def __init__(self, a):\n",
    "        self.a = a\n",
    "\n",
    "class B(A):\n",
    "    def __init__(self, a):\n",
    "        self.a = a\n",
    "\n",
    "obj = B(2)\n",
    "print(B.mro())"
   ]
  },
  {
   "cell_type": "code",
   "execution_count": 28,
   "id": "governing-table",
   "metadata": {},
   "outputs": [
    {
     "name": "stdout",
     "output_type": "stream",
     "text": [
      "our function works\n",
      "checkdeck working 5 10\n"
     ]
    }
   ],
   "source": [
    "from functools import wraps\n",
    "\n",
    "\n",
    "######## decorator function #####\n",
    "\n",
    "def decorator(main_func):\n",
    "    @wraps(main_func)\n",
    "    def inner_func(*args, **kwargs):\n",
    "        print(\"our function works\")\n",
    "        return main_func(*args, **kwargs)\n",
    "    return inner_func\n",
    "\n",
    "\n",
    "\n",
    "###### decorator class ######\n",
    "\n",
    "# class decorator:\n",
    "#     main_func = None\n",
    "    \n",
    "#     def __init__(self, main_func):\n",
    "#         self.main_func = main_func\n",
    "#         decorator.main_func = main_func\n",
    "        \n",
    "#     @wraps(main_func)\n",
    "#     def __call__(self, *args, **kwargs):\n",
    "#         print(\"call is called\")\n",
    "#         self.main_func(*args, **kwargs)\n",
    "        \n",
    "\n",
    "@decorator\n",
    "def check_dec(a, b):\n",
    "    print(\"checkdeck working\", a,b)\n",
    "\n",
    "check_dec(5, 10)\n"
   ]
  },
  {
   "cell_type": "code",
   "execution_count": 43,
   "id": "revolutionary-venture",
   "metadata": {},
   "outputs": [
    {
     "name": "stdout",
     "output_type": "stream",
     "text": [
      "our function works <function check_dec at 0x7fd354bd8160>\n",
      "checkdeck working 5 10\n"
     ]
    }
   ],
   "source": [
    "###### parameterized decorators ######\n",
    "\n",
    "def prefix_decorator(prefix):\n",
    "    def decorator(main_func):\n",
    "        def inner_func(*args, **kwargs):\n",
    "            print( \"our function works\", main_func)\n",
    "            return main_func(*args, **kwargs)\n",
    "        return inner_func\n",
    "    return decorator\n",
    "\n",
    "@prefix_decorator('parameterized decorator')\n",
    "def check_dec(a, b):\n",
    "    print(\"checkdeck working\", a,b)\n",
    "\n",
    "check_dec(5, 10)\n"
   ]
  },
  {
   "cell_type": "code",
   "execution_count": 1,
   "id": "internal-twist",
   "metadata": {},
   "outputs": [
    {
     "name": "stdout",
     "output_type": "stream",
     "text": [
      "lhuar\n",
      "lhur\n",
      "lur\n",
      "lr\n",
      "r\n"
     ]
    },
    {
     "data": {
      "text/plain": [
       "False"
      ]
     },
     "execution_count": 1,
     "metadata": {},
     "output_type": "execute_result"
    }
   ],
   "source": [
    "a = \"rahull\"\n",
    "b = \"lhuarr\"\n",
    "\n",
    "def anagram(a, b):\n",
    "    len_a = len(a)\n",
    "    if len_a == len(b):\n",
    "        for i in range(len_a):\n",
    "            if a[i] in b:\n",
    "                b = b.replace(a[i], \"\", 1)\n",
    "                print(b)\n",
    "            else:\n",
    "                return False   \n",
    "        return True\n",
    "    else:\n",
    "        print(\"not anagram\")\n",
    "anagram(a, b)\n",
    "    "
   ]
  },
  {
   "cell_type": "code",
   "execution_count": 4,
   "id": "fitted-startup",
   "metadata": {},
   "outputs": [
    {
     "data": {
      "text/plain": [
       "True"
      ]
     },
     "execution_count": 4,
     "metadata": {},
     "output_type": "execute_result"
    }
   ],
   "source": [
    "def anagram_checker(str1, str2):\n",
    "    string1 = str1.replace(\" \", \"\").lower()\n",
    "    string2 = str2.replace(\" \", \"\").lower()\n",
    "    if len(string1) == len(string2):\n",
    "        for element in string1:\n",
    "            if element in string2:\n",
    "                string2 = string2.replace(element, \"\", 1)\n",
    "            else:\n",
    "                return False\n",
    "        return True\n",
    "    else:\n",
    "        print(False, \"element\")\n",
    "\n",
    "\n",
    "anagram_checker('rahul', 'lhuar')\n"
   ]
  },
  {
   "cell_type": "code",
   "execution_count": 9,
   "id": "tested-reserve",
   "metadata": {},
   "outputs": [
    {
     "data": {
      "text/plain": [
       "8"
      ]
     },
     "execution_count": 9,
     "metadata": {},
     "output_type": "execute_result"
    }
   ],
   "source": [
    "class Square:\n",
    "    def sqr(self, a):\n",
    "        return a**2\n",
    "    \n",
    "def cube(self, a):\n",
    "    return a**3\n",
    "\n",
    "Square.sqr = cube\n",
    "\n",
    "obj = Square()\n",
    "\n",
    "obj.sqr(2)\n"
   ]
  },
  {
   "cell_type": "code",
   "execution_count": 10,
   "id": "arranged-currency",
   "metadata": {},
   "outputs": [
    {
     "data": {
      "text/plain": [
       "6"
      ]
     },
     "execution_count": 10,
     "metadata": {},
     "output_type": "execute_result"
    }
   ],
   "source": [
    "\n",
    "sum([1,2,3])"
   ]
  },
  {
   "cell_type": "code",
   "execution_count": 6,
   "id": "hollywood-volunteer",
   "metadata": {},
   "outputs": [
    {
     "ename": "ModuleNotFoundError",
     "evalue": "No module named 'Square'",
     "output_type": "error",
     "traceback": [
      "\u001b[0;31m---------------------------------------------------------------------------\u001b[0m",
      "\u001b[0;31mModuleNotFoundError\u001b[0m                       Traceback (most recent call last)",
      "\u001b[0;32m<ipython-input-6-e0eb9e14e707>\u001b[0m in \u001b[0;36m<module>\u001b[0;34m\u001b[0m\n\u001b[0;32m----> 1\u001b[0;31m \u001b[0;32mimport\u001b[0m \u001b[0mSquare\u001b[0m\u001b[0;34m\u001b[0m\u001b[0;34m\u001b[0m\u001b[0m\n\u001b[0m\u001b[1;32m      2\u001b[0m \u001b[0mobj\u001b[0m \u001b[0;34m=\u001b[0m \u001b[0mSquare\u001b[0m\u001b[0;34m(\u001b[0m\u001b[0;34m)\u001b[0m\u001b[0;34m\u001b[0m\u001b[0;34m\u001b[0m\u001b[0m\n\u001b[1;32m      3\u001b[0m \u001b[0mobj\u001b[0m\u001b[0;34m.\u001b[0m\u001b[0msqr\u001b[0m\u001b[0;34m.\u001b[0m\u001b[0mcube\u001b[0m \u001b[0;34m=\u001b[0m \u001b[0mcube\u001b[0m\u001b[0;34m\u001b[0m\u001b[0;34m\u001b[0m\u001b[0m\n\u001b[1;32m      4\u001b[0m \u001b[0mobj\u001b[0m\u001b[0;34m(\u001b[0m\u001b[0;36m2\u001b[0m\u001b[0;34m)\u001b[0m\u001b[0;34m\u001b[0m\u001b[0;34m\u001b[0m\u001b[0m\n",
      "\u001b[0;31mModuleNotFoundError\u001b[0m: No module named 'Square'"
     ]
    }
   ],
   "source": [
    "\n"
   ]
  },
  {
   "cell_type": "code",
   "execution_count": null,
   "id": "rubber-privacy",
   "metadata": {},
   "outputs": [],
   "source": []
  }
 ],
 "metadata": {
  "kernelspec": {
   "display_name": "Python 3",
   "language": "python",
   "name": "python3"
  },
  "language_info": {
   "codemirror_mode": {
    "name": "ipython",
    "version": 3
   },
   "file_extension": ".py",
   "mimetype": "text/x-python",
   "name": "python",
   "nbconvert_exporter": "python",
   "pygments_lexer": "ipython3",
   "version": "3.8.8"
  }
 },
 "nbformat": 4,
 "nbformat_minor": 5
}
